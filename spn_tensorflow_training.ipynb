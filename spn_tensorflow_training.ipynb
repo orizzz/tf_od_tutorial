{
  "nbformat": 4,
  "nbformat_minor": 2,
  "metadata": {
    "colab": {
      "name": "spn tensorflow training.ipynb",
      "provenance": [],
      "collapsed_sections": [],
      "machine_shape": "hm"
    },
    "kernelspec": {
      "name": "python3",
      "display_name": "Python 3.9.5 64-bit"
    },
    "language_info": {
      "name": "python",
      "version": "3.9.5",
      "mimetype": "text/x-python",
      "codemirror_mode": {
        "name": "ipython",
        "version": 3
      },
      "pygments_lexer": "ipython3",
      "nbconvert_exporter": "python",
      "file_extension": ".py"
    },
    "accelerator": "GPU",
    "interpreter": {
      "hash": "916dbcbb3f70747c44a77c7bcd40155683ae19c65e1c03b4aa3499c5328201f1"
    }
  },
  "cells": [
    {
      "cell_type": "code",
      "execution_count": 1,
      "source": [
        "!pip install tensorflow-gpu"
      ],
      "outputs": [
        {
          "output_type": "stream",
          "name": "stdout",
          "text": [
            "\u001b[K     |█████                           | 76.1 MB 77 kB/s eta 1:28:41^C\n",
            "\n",
            "\u001b[?25h\u001b[31mERROR: Operation cancelled by user\u001b[0m\n"
          ]
        }
      ],
      "metadata": {
        "id": "GnVG7OmvsAOR",
        "colab": {
          "base_uri": "https://localhost:8080/"
        },
        "outputId": "888663a6-8316-473b-ac87-8ecb1730846d"
      }
    },
    {
      "cell_type": "code",
      "execution_count": null,
      "source": [
        "import tensorflow as tf\n",
        "print(tf.__version__)"
      ],
      "outputs": [],
      "metadata": {
        "id": "oeyP0aYes9Zs",
        "colab": {
          "base_uri": "https://localhost:8080/"
        },
        "outputId": "d85a7638-c8b0-44e6-f3c4-b7eadc9557dc"
      }
    },
    {
      "cell_type": "markdown",
      "source": [
        "## **Cloning TFOD 2.0 Github**"
      ],
      "metadata": {
        "id": "DEGpXLl3tQVX"
      }
    },
    {
      "cell_type": "code",
      "execution_count": null,
      "source": [
        "!git clone https://github.com/tensorflow/models.git"
      ],
      "outputs": [],
      "metadata": {
        "id": "kFkdXoEltLY9",
        "colab": {
          "base_uri": "https://localhost:8080/"
        },
        "outputId": "e6253bf2-bd20-462b-f143-9f69c50ea16f"
      }
    },
    {
      "cell_type": "code",
      "execution_count": null,
      "source": [
        "pwd"
      ],
      "outputs": [],
      "metadata": {
        "colab": {
          "base_uri": "https://localhost:8080/",
          "height": 36
        },
        "id": "aJ4YzpQ4tMlz",
        "outputId": "1b4d3072-33a0-4361-eabc-769c4cb8c073"
      }
    },
    {
      "cell_type": "code",
      "execution_count": null,
      "source": [
        "cd /content/models/research"
      ],
      "outputs": [],
      "metadata": {
        "id": "6ZwI0sTdtMsc",
        "colab": {
          "base_uri": "https://localhost:8080/"
        },
        "outputId": "c022c031-67d6-4082-ac43-aff3c50b706a"
      }
    },
    {
      "cell_type": "code",
      "execution_count": null,
      "source": [
        "pwd"
      ],
      "outputs": [],
      "metadata": {
        "id": "SK5RyNz9tMvZ",
        "colab": {
          "base_uri": "https://localhost:8080/",
          "height": 36
        },
        "outputId": "8315aeeb-cb2e-49c4-aad0-66d889f0bf66"
      }
    },
    {
      "cell_type": "code",
      "execution_count": null,
      "source": [
        "!protoc object_detection/protos/*.proto --python_out=."
      ],
      "outputs": [],
      "metadata": {
        "id": "NozH3MfAtMyR"
      }
    },
    {
      "cell_type": "code",
      "execution_count": null,
      "source": [
        "!git clone https://github.com/cocodataset/cocoapi.git\n"
      ],
      "outputs": [],
      "metadata": {
        "id": "alOqL7ortM1F",
        "colab": {
          "base_uri": "https://localhost:8080/"
        },
        "outputId": "a528e425-d50e-4f0d-8166-cab45b3fd436"
      }
    },
    {
      "cell_type": "code",
      "execution_count": null,
      "source": [
        "cd cocoapi/PythonAPI"
      ],
      "outputs": [],
      "metadata": {
        "colab": {
          "base_uri": "https://localhost:8080/"
        },
        "id": "0XRlMiuEtM4R",
        "outputId": "5fc674ab-7fe4-458d-ebd2-8a78f2a4e77a"
      }
    },
    {
      "cell_type": "code",
      "execution_count": null,
      "source": [
        "!make"
      ],
      "outputs": [],
      "metadata": {
        "id": "PZ-xj6MUtM7U",
        "colab": {
          "base_uri": "https://localhost:8080/"
        },
        "outputId": "45c49eae-9ecf-46ef-c6cc-ee0fb72830c7"
      }
    },
    {
      "cell_type": "code",
      "execution_count": null,
      "source": [
        "cp -r pycocotools /content/models/research"
      ],
      "outputs": [],
      "metadata": {
        "id": "A5Qr7ACCtM_b"
      }
    },
    {
      "cell_type": "code",
      "execution_count": null,
      "source": [],
      "outputs": [],
      "metadata": {
        "id": "8Zm4ldL2tNCg"
      }
    },
    {
      "cell_type": "markdown",
      "source": [
        "### Install the Object Detection API"
      ],
      "metadata": {
        "id": "rLq79dR0uQFt"
      }
    },
    {
      "cell_type": "code",
      "execution_count": null,
      "source": [
        "cd .."
      ],
      "outputs": [],
      "metadata": {
        "id": "DM2bgHvLtNFt",
        "colab": {
          "base_uri": "https://localhost:8080/"
        },
        "outputId": "c39163fb-ef4e-4c26-ceb8-5fbfa33c825b"
      }
    },
    {
      "cell_type": "code",
      "execution_count": null,
      "source": [
        "cd .. "
      ],
      "outputs": [],
      "metadata": {
        "id": "MZouxA5TuWgV",
        "colab": {
          "base_uri": "https://localhost:8080/"
        },
        "outputId": "ffce3b6a-867f-4c9c-e78b-0b298e8fea79"
      }
    },
    {
      "cell_type": "code",
      "execution_count": null,
      "source": [
        "cp object_detection/packages/tf2/setup.py ."
      ],
      "outputs": [],
      "metadata": {
        "id": "Q635Jl58uWjI"
      }
    },
    {
      "cell_type": "code",
      "execution_count": null,
      "source": [
        "!python -m pip install ."
      ],
      "outputs": [],
      "metadata": {
        "id": "ZyrPaXSxuWmI",
        "colab": {
          "base_uri": "https://localhost:8080/"
        },
        "outputId": "ec3dbacf-b894-44d3-827d-045172458196"
      }
    },
    {
      "cell_type": "code",
      "execution_count": null,
      "source": [
        "# From within TensorFlow/models/research/\n",
        "!python object_detection/builders/model_builder_tf2_test.py"
      ],
      "outputs": [],
      "metadata": {
        "id": "cjlR4lsmuWpE",
        "colab": {
          "base_uri": "https://localhost:8080/"
        },
        "outputId": "54b89950-e64b-45fe-9ff2-b746a6208edb"
      }
    },
    {
      "cell_type": "markdown",
      "source": [
        "### Preparing the workplace"
      ],
      "metadata": {
        "id": "dc382MCGBuDl"
      }
    },
    {
      "cell_type": "code",
      "execution_count": null,
      "source": [
        "import os\n",
        "repo_url = 'https://github.com/orizzz/tf_od_tutorial'\n",
        "%cd /content\n",
        "\n",
        "repo_dir_path = os.path.abspath(os.path.join('.', os.path.basename(repo_url)))\n",
        "\n",
        "!git clone {repo_url}\n",
        "%cd {repo_dir_path}\n",
        "!git pull"
      ],
      "outputs": [],
      "metadata": {
        "colab": {
          "base_uri": "https://localhost:8080/"
        },
        "id": "UMXzIKmvIuqB",
        "outputId": "403b78d0-1b5f-44f6-ed18-81a1f3c732f9"
      }
    },
    {
      "cell_type": "code",
      "execution_count": null,
      "source": [
        "ls"
      ],
      "outputs": [],
      "metadata": {
        "colab": {
          "base_uri": "https://localhost:8080/"
        },
        "id": "eNxbelQmJDVV",
        "outputId": "41f9c6fa-8497-459b-9de3-32a70077b6a0"
      }
    },
    {
      "cell_type": "code",
      "execution_count": null,
      "source": [
        "%mkdir -p /content/training_demo\n",
        "%cd /content/training_demo"
      ],
      "outputs": [],
      "metadata": {
        "colab": {
          "base_uri": "https://localhost:8080/"
        },
        "id": "d2bohyWtB6Es",
        "outputId": "288eb688-a193-44a8-f93b-1a4744d78ce2"
      }
    },
    {
      "cell_type": "code",
      "execution_count": null,
      "source": [
        "!pwd\n",
        "!ls"
      ],
      "outputs": [],
      "metadata": {
        "colab": {
          "base_uri": "https://localhost:8080/"
        },
        "id": "T8YaBALaCITV",
        "outputId": "4541e7e7-952c-4fef-89f2-199c0e5581e4"
      }
    },
    {
      "cell_type": "code",
      "execution_count": null,
      "source": [
        "%mkdir -p annotations\n",
        "%mkdir -p exported_models\n",
        "%mkdir -p images\n",
        "%mkdir -p pre-trained-models\n",
        "%ls\n"
      ],
      "outputs": [],
      "metadata": {
        "colab": {
          "base_uri": "https://localhost:8080/"
        },
        "id": "pesLUuIzCl4X",
        "outputId": "3389817c-79a9-4a3d-eb7c-49dea7c0221b"
      }
    },
    {
      "cell_type": "code",
      "execution_count": null,
      "source": [
        "%cp -r {repo_dir_path}/data/images /content/training_demo/"
      ],
      "outputs": [],
      "metadata": {
        "id": "6aQSRxusJg9t"
      }
    },
    {
      "cell_type": "code",
      "execution_count": null,
      "source": [
        "%cd /content/training_demo/images\n",
        "%ls"
      ],
      "outputs": [],
      "metadata": {
        "colab": {
          "base_uri": "https://localhost:8080/"
        },
        "id": "8u5NF3LoaZs5",
        "outputId": "4c294f8e-59e8-4f3d-feca-06cef05cec73"
      }
    },
    {
      "cell_type": "code",
      "execution_count": null,
      "source": [
        "%cd /content/training_demo/\n",
        "%ls"
      ],
      "outputs": [],
      "metadata": {
        "id": "aM7hbvyua_lV",
        "colab": {
          "base_uri": "https://localhost:8080/"
        },
        "outputId": "2cfb9fd8-4897-4d21-d4dd-58d309cb16e8"
      }
    },
    {
      "cell_type": "code",
      "execution_count": null,
      "source": [
        "%cp -r {repo_dir_path}/generate_tfrecord.py /content/training_demo/\n",
        "%ls"
      ],
      "outputs": [],
      "metadata": {
        "colab": {
          "base_uri": "https://localhost:8080/"
        },
        "id": "P3wQwqGoaw5h",
        "outputId": "b4150b9d-86ff-43ca-a3d4-3f795d0d148e"
      }
    },
    {
      "cell_type": "code",
      "execution_count": null,
      "source": [
        "%cp -r {repo_dir_path}/label_map.pbtxt /content/training_demo/annotations\n",
        "%ls"
      ],
      "outputs": [],
      "metadata": {
        "colab": {
          "base_uri": "https://localhost:8080/"
        },
        "id": "A83mzmtlDi5z",
        "outputId": "c1e1a081-1827-454d-bbda-46e08fc85387"
      }
    },
    {
      "cell_type": "code",
      "execution_count": null,
      "source": [
        "%cd /content/training_demo/pre-trained-models "
      ],
      "outputs": [],
      "metadata": {
        "id": "gL4BBRoZuWr8",
        "colab": {
          "base_uri": "https://localhost:8080/"
        },
        "outputId": "6d7991a1-f5d4-4308-f4e7-a47db6b8ca5b"
      }
    },
    {
      "cell_type": "code",
      "execution_count": null,
      "source": [
        "!wget http://download.tensorflow.org/models/object_detection/tf2/20200711/faster_rcnn_resnet152_v1_640x640_coco17_tpu-8.tar.gz"
      ],
      "outputs": [],
      "metadata": {
        "id": "MItGLVY3uWu8",
        "colab": {
          "base_uri": "https://localhost:8080/"
        },
        "outputId": "6d1743f2-ba44-4caa-ee05-fe9505214124"
      }
    },
    {
      "cell_type": "code",
      "execution_count": null,
      "source": [
        "!tar -xvf faster_rcnn_resnet152_v1_640x640_coco17_tpu-8.tar.gz"
      ],
      "outputs": [],
      "metadata": {
        "id": "tzlPcDPLuWye",
        "colab": {
          "base_uri": "https://localhost:8080/"
        },
        "outputId": "fd5003d4-594c-4603-b08d-524dd74a6783"
      }
    },
    {
      "cell_type": "code",
      "execution_count": null,
      "source": [
        "pwd"
      ],
      "outputs": [],
      "metadata": {
        "id": "Vf49zVcAtNJB",
        "colab": {
          "base_uri": "https://localhost:8080/",
          "height": 36
        },
        "outputId": "068cf862-7a8f-44d2-9114-110bcb1d49d0"
      }
    },
    {
      "cell_type": "code",
      "execution_count": null,
      "source": [
        "cd /content/training_demo"
      ],
      "outputs": [],
      "metadata": {
        "id": "MFA0L4rmyGae",
        "colab": {
          "base_uri": "https://localhost:8080/"
        },
        "outputId": "b731c68f-6f2b-48b9-d47f-2d45127dfd19"
      }
    },
    {
      "cell_type": "code",
      "execution_count": null,
      "source": [
        "%cp -r {repo_dir_path}/data/models /content/training_demo/"
      ],
      "outputs": [],
      "metadata": {
        "id": "dxveA1zpALrB"
      }
    },
    {
      "cell_type": "code",
      "execution_count": null,
      "source": [
        "ls"
      ],
      "outputs": [],
      "metadata": {
        "id": "Pxst7lPT0Sby",
        "colab": {
          "base_uri": "https://localhost:8080/"
        },
        "outputId": "3f6744c2-3e41-4326-d350-359722b6860e"
      }
    },
    {
      "cell_type": "code",
      "execution_count": null,
      "source": [
        "# Create train data:\n",
        "!python generate_tfrecord.py -x /content/training_demo/images/train -l /content/training_demo/annotations/label_map.pbtxt -o /content/training_demo/annotations/train.record\n",
        "\n",
        "# Create test data:\n",
        "!python generate_tfrecord.py -x /content/training_demo/images/test -l /content/training_demo/annotations/label_map.pbtxt -o /content/training_demo/annotations/test.record"
      ],
      "outputs": [],
      "metadata": {
        "id": "hU2lVZfzyuar",
        "colab": {
          "base_uri": "https://localhost:8080/"
        },
        "outputId": "4c4f713c-3223-4dc7-e860-291af09ecd10"
      }
    },
    {
      "cell_type": "code",
      "execution_count": null,
      "source": [
        "pwd"
      ],
      "outputs": [],
      "metadata": {
        "id": "MfHABHxi56kM",
        "colab": {
          "base_uri": "https://localhost:8080/",
          "height": 36
        },
        "outputId": "ce68e399-b679-4c7c-cb4e-be3b8015acbe"
      }
    },
    {
      "cell_type": "code",
      "execution_count": null,
      "source": [
        "ls"
      ],
      "outputs": [],
      "metadata": {
        "id": "oQO8P8xLy6bS",
        "colab": {
          "base_uri": "https://localhost:8080/"
        },
        "outputId": "74e379a2-ac9a-4eab-ffc0-526ead53be68"
      }
    },
    {
      "cell_type": "code",
      "execution_count": null,
      "source": [
        "\n",
        "%cp -r /content/models/research/object_detection/model_main_tf2.py /content/training_demo/\n",
        "%ls"
      ],
      "outputs": [],
      "metadata": {
        "colab": {
          "base_uri": "https://localhost:8080/"
        },
        "id": "-XrMHcKOVWD0",
        "outputId": "2d1a51c8-71ad-44a5-f56f-2e8004794e2a"
      }
    },
    {
      "cell_type": "code",
      "execution_count": null,
      "source": [
        "!python model_main_tf2.py --model_dir=/content/training_demo/models/spn_faster_rcnn_resnet152_v1 --pipeline_config_path=/content/training_demo/models/spn_faster_rcnn_resnet152_v1/pipeline.config"
      ],
      "outputs": [],
      "metadata": {
        "id": "pNVwlSCq9pr1",
        "colab": {
          "base_uri": "https://localhost:8080/"
        },
        "outputId": "bcada6de-3ee3-4790-d4f1-1d9521f2cb7a"
      }
    },
    {
      "cell_type": "code",
      "execution_count": null,
      "source": [],
      "outputs": [],
      "metadata": {
        "id": "vT8TkYh-OISw"
      }
    },
    {
      "cell_type": "code",
      "execution_count": null,
      "source": [
        "pwd"
      ],
      "outputs": [],
      "metadata": {
        "colab": {
          "base_uri": "https://localhost:8080/",
          "height": 35
        },
        "id": "TlRqjT4AFOhv",
        "outputId": "a77528bd-f60a-4846-cf1a-f2b7eb8d3513"
      }
    },
    {
      "cell_type": "code",
      "execution_count": null,
      "source": [
        "!python exporter_main_v2.py --input_type image_tensor --pipeline_config_path /content/training_demo/models/spn_faster_rcnn_resnet152_v1/pipeline.config --trained_checkpoint_dir /content/training_demo/models/spn_faster_rcnn_resnet152_v1 --output_directory /content/training_demo/exported_models/spn_detection_model"
      ],
      "outputs": [],
      "metadata": {
        "id": "UeI2URnR9zhw",
        "colab": {
          "base_uri": "https://localhost:8080/"
        },
        "outputId": "2defe90f-c72b-49e4-a7c3-e8d6cdf145b3"
      }
    },
    {
      "cell_type": "markdown",
      "source": [
        "Inferencing My Trained Models"
      ],
      "metadata": {
        "id": "GIIKwpxtGAhK"
      }
    },
    {
      "cell_type": "code",
      "execution_count": null,
      "source": [
        "\"\"\"\n",
        "Object Detection (On Image) From TF2 Saved Model\n",
        "=====================================\n",
        "\"\"\"\n",
        "\n",
        "import os\n",
        "os.environ['TF_CPP_MIN_LOG_LEVEL'] = '2'    # Suppress TensorFlow logging (1)\n",
        "import pathlib\n",
        "import tensorflow as tf\n",
        "import cv2\n",
        "import argparse\n",
        "from google.colab.patches import cv2_imshow\n",
        "\n",
        "# Enable GPU dynamic memory allocation\n",
        "gpus = tf.config.experimental.list_physical_devices('GPU')\n",
        "for gpu in gpus:\n",
        "    tf.config.experimental.set_memory_growth(gpu, True)\n",
        "\n",
        "# PROVIDE PATH TO IMAGE DIRECTORY\n",
        "IMAGE_PATHS = '/content/training_demo/images/train/image1.jpg'\n",
        "\n",
        "\n",
        "# PROVIDE PATH TO MODEL DIRECTORY\n",
        "PATH_TO_MODEL_DIR = '/content/training_demo/exported_models/my_model'\n",
        "\n",
        "# PROVIDE PATH TO LABEL MAP\n",
        "PATH_TO_LABELS = '/content/training_demo/annotations/label_map.pbtxt'\n",
        "\n",
        "# PROVIDE THE MINIMUM CONFIDENCE THRESHOLD\n",
        "MIN_CONF_THRESH = float(0.60)\n",
        "\n",
        "# LOAD THE MODEL\n",
        "\n",
        "import time\n",
        "from object_detection.utils import label_map_util\n",
        "from object_detection.utils import visualization_utils as viz_utils\n",
        "\n",
        "PATH_TO_SAVED_MODEL = PATH_TO_MODEL_DIR + \"/saved_model\"\n",
        "\n",
        "print('Loading model...', end='')\n",
        "start_time = time.time()\n",
        "\n",
        "# LOAD SAVED MODEL AND BUILD DETECTION FUNCTION\n",
        "detect_fn = tf.saved_model.load(PATH_TO_SAVED_MODEL)\n",
        "\n",
        "end_time = time.time()\n",
        "elapsed_time = end_time - start_time\n",
        "print('Done! Took {} seconds'.format(elapsed_time))\n",
        "\n",
        "# LOAD LABEL MAP DATA FOR PLOTTING\n",
        "\n",
        "category_index = label_map_util.create_category_index_from_labelmap(PATH_TO_LABELS,\n",
        "                                                                    use_display_name=True)\n",
        "\n",
        "import numpy as np\n",
        "from PIL import Image\n",
        "import matplotlib.pyplot as plt\n",
        "import warnings\n",
        "warnings.filterwarnings('ignore')   # Suppress Matplotlib warnings\n",
        "\n",
        "def load_image_into_numpy_array(path):\n",
        "    \"\"\"Load an image from file into a numpy array.\n",
        "    Puts image into numpy array to feed into tensorflow graph.\n",
        "    Note that by convention we put it into a numpy array with shape\n",
        "    (height, width, channels), where channels=3 for RGB.\n",
        "    Args:\n",
        "      path: the file path to the image\n",
        "    Returns:\n",
        "      uint8 numpy array with shape (img_height, img_width, 3)\n",
        "    \"\"\"\n",
        "    return np.array(Image.open(path))\n",
        "\n",
        "\n",
        "\n",
        "\n",
        "print('Running inference for {}... '.format(IMAGE_PATHS), end='')\n",
        "\n",
        "image = cv2.imread(IMAGE_PATHS)\n",
        "image_rgb = cv2.cvtColor(image, cv2.COLOR_BGR2RGB)\n",
        "image_expanded = np.expand_dims(image_rgb, axis=0)\n",
        "\n",
        "# The input needs to be a tensor, convert it using `tf.convert_to_tensor`.\n",
        "input_tensor = tf.convert_to_tensor(image)\n",
        "# The model expects a batch of images, so add an axis with `tf.newaxis`.\n",
        "input_tensor = input_tensor[tf.newaxis, ...]\n",
        "\n",
        "# input_tensor = np.expand_dims(image_np, 0)\n",
        "detections = detect_fn(input_tensor)\n",
        "\n",
        "# All outputs are batches tensors.\n",
        "# Convert to numpy arrays, and take index [0] to remove the batch dimension.\n",
        "# We're only interested in the first num_detections.\n",
        "num_detections = int(detections.pop('num_detections'))\n",
        "detections = {key: value[0, :num_detections].numpy()\n",
        "               for key, value in detections.items()}\n",
        "detections['num_detections'] = num_detections\n",
        "\n",
        "# detection_classes should be ints.\n",
        "detections['detection_classes'] = detections['detection_classes'].astype(np.int64)\n",
        "\n",
        "image_with_detections = image.copy()\n",
        "\n",
        "# SET MIN_SCORE_THRESH BASED ON YOU MINIMUM THRESHOLD FOR DETECTIONS\n",
        "viz_utils.visualize_boxes_and_labels_on_image_array(\n",
        "      image_with_detections,\n",
        "      detections['detection_boxes'],\n",
        "      detections['detection_classes'],\n",
        "      detections['detection_scores'],\n",
        "      category_index,\n",
        "      use_normalized_coordinates=True,\n",
        "      max_boxes_to_draw=200,\n",
        "      min_score_thresh=0.5,\n",
        "      agnostic_mode=False)\n",
        "\n",
        "print('Done')\n",
        "# DISPLAYS OUTPUT IMAGE\n",
        "cv2_imshow(image_with_detections)\n",
        "# CLOSES WINDOW ONCE KEY IS PRESSED\n"
      ],
      "outputs": [],
      "metadata": {
        "id": "spZJ4ms3FqRT"
      }
    },
    {
      "cell_type": "code",
      "execution_count": null,
      "source": [],
      "outputs": [],
      "metadata": {
        "id": "k0KheEfPGYhO"
      }
    }
  ]
}